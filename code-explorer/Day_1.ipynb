{
 "cells": [
  {
   "cell_type": "markdown",
   "id": "03f1e2b2",
   "metadata": {},
   "source": [
    "# 1.1: Print Statements\n",
    "\n",
    "### 💡 What is a `print()` statement?\n",
    "\n",
    "> Think of a `print()` as the program's way of *talking to you*.  \n",
    "\n",
    "When you write `print()`, you're telling the program to display something on the screen.\n",
    "\n",
    "### 💡 Where do `print()` statements show up?\n",
    "\n",
    "> When you run a program, anything inside a `print()` will show up in a *designated output area*.  \n",
    "\n",
    "This is typically either right underneath the block of code or in a black terminal window.\n",
    "\n",
    "### 💡 What are they used for?\n",
    "\n",
    "There are a lot of reasons we might use these statements. Some include:\n",
    "\n",
    "- To tell the user a message (`print(\"Hello!\")`)\n",
    "\n",
    "- To show results to the user (`print(\"Your total is:\", total)`)\n",
    "\n",
    "- To help you see what's happening in your code (especially useful for debugging!)"
   ]
  },
  {
   "cell_type": "markdown",
   "id": "c7ad4fb0",
   "metadata": {},
   "source": [
    "### ⚙️ Example 1.1:\n",
    "\n",
    "Take a look at the block of code below. In order to run the block, hover over it and find the small \"play\" button in the top left corner.\n",
    "\n",
    "Try running the block of code. Can you see the output?"
   ]
  },
  {
   "cell_type": "code",
   "execution_count": null,
   "id": "1c68b661",
   "metadata": {},
   "outputs": [],
   "source": [
    "\n",
    "print(\"Hello World!\")\n"
   ]
  },
  {
   "cell_type": "markdown",
   "id": "3180d7e1",
   "metadata": {},
   "source": [
    "Great! Try creating your own print statement to print out your name.  \n",
    "\n",
    "Note: Anything with a hashtag (`#`) in front of it is called a comment. This is just text that you, the programmer, can see."
   ]
  },
  {
   "cell_type": "code",
   "execution_count": null,
   "id": "52f8fe3c",
   "metadata": {},
   "outputs": [],
   "source": [
    "# your print statement here:\n",
    "\n",
    "\n"
   ]
  },
  {
   "cell_type": "markdown",
   "id": "8883909a",
   "metadata": {},
   "source": [
    "# 1.2: Variables & Types\n",
    "\n",
    "### 💡 What is a variable?\n",
    "\n",
    "> A variable is like a *labeled box* that stores a piece of information your program can use later.  \n",
    "\n",
    "You give it a name, and something to put inside (like a number, a word, or a sentence).  \n",
    "\n",
    "For example:"
   ]
  },
  {
   "cell_type": "code",
   "execution_count": null,
   "id": "d34ee4e0",
   "metadata": {},
   "outputs": [],
   "source": [
    "\n",
    "name = \"Sarah\"\n",
    "age = 23"
   ]
  },
  {
   "cell_type": "markdown",
   "id": "1e437e3c",
   "metadata": {},
   "source": [
    "Now Python knows that whenever I write `name`, I'm talking about `\"Sarah\"`."
   ]
  },
  {
   "cell_type": "markdown",
   "id": "06aa9d8f",
   "metadata": {},
   "source": [
    "\n",
    "### 💡 Why do we use variables?\n",
    "There are a lot of reasons! Like:\n",
    "\n",
    "- To save input from the user\n",
    "\n",
    "- To save the results of calculations\n",
    "\n",
    "- To make our code easier to understand and change later\n",
    "\n",
    "\n",
    "### 💡 What is a type?\n",
    "> Every value in Python has a type, which tells Python *what kind of thing it is*. \n",
    "\n",
    "One cool thing about Python is that it's very forgiving. You don't have to tell it what type a variable is. Python can usually figure it out on its own!  \n",
    "\n",
    "Other languages, however, will require you to define the type of variable that you're using (like Arduino's C++, which we will use in other activities).  \n",
    "\n",
    "But for now, we don't have to worry about that!  \n",
    "\n",
    "### 💡 Key types for you to know:\n",
    "\n",
    "| Type    | What It Is                | Example              |\n",
    "| ------- | ------------------------- | -------------------- |\n",
    "| `str`   | A string (text)           | `\"hello\"` or `\"123\"` |\n",
    "| `int`   | An integer (whole number) | `42`                 |\n",
    "| `float` | A number with a decimal   | `3.14`               |\n",
    "| `bool`  | True or False (later use) | `True`, `False`      |\n",
    "\n"
   ]
  },
  {
   "cell_type": "markdown",
   "id": "06c8f358",
   "metadata": {},
   "source": [
    "\n",
    "#### 🧠 Important tip! \n",
    "\n",
    "> Strings are in quotes (`\"like this!\"`), but numbers are not (`35` or `1.892`). You *can* put numbers inside of quotes (`\"35\"`) but this is *still a string*. You *cannot do math with strings*. We'll come back to this later.\n"
   ]
  },
  {
   "cell_type": "markdown",
   "id": "7ea0a6ca",
   "metadata": {},
   "source": [
    "### ⚙️ Example 1.2.1:\n",
    "\n",
    "Let's define a couple variables together.\n",
    "\n",
    "In order to see what type a variable is, we can use the `type()` function. Let's try it!"
   ]
  },
  {
   "cell_type": "code",
   "execution_count": null,
   "id": "f59fada9",
   "metadata": {},
   "outputs": [],
   "source": [
    "\n",
    "month = \"July\"\n",
    "\n",
    "month_number = 7\n",
    "\n",
    "# remember: in order to actually see the results, we need to use a print() statement!\n",
    "\n",
    "print(type(month))\n",
    "\n",
    "print(type(month_number))\n"
   ]
  },
  {
   "cell_type": "markdown",
   "id": "6a9dc8da",
   "metadata": {},
   "source": [
    "Define some variables yourself! Let's try:\n",
    "- Your birth month (a string)  \n",
    "\n",
    "- Your birth month as a number (an integer)\n"
   ]
  },
  {
   "cell_type": "code",
   "execution_count": null,
   "id": "970e1669",
   "metadata": {},
   "outputs": [],
   "source": [
    "# try some yourself! (make sure to run this cell by pressing the button!)\n",
    "\n"
   ]
  },
  {
   "cell_type": "code",
   "execution_count": null,
   "id": "3ee61d14",
   "metadata": {},
   "outputs": [],
   "source": [
    "# try printing out the type of each variable!\n",
    "\n"
   ]
  },
  {
   "cell_type": "markdown",
   "id": "de8c7b2b",
   "metadata": {},
   "source": [
    "### 💡 What else can we do with variables?\n",
    "\n",
    "Variables are your most versatile tool in Python. You can also:\n",
    "- Store the results of functions as a variable\n",
    "- Define them as equations (like in regular math!)\n",
    "- Update a variable's value later on in the code\n",
    "\n",
    "\n",
    "### ⚙️ Example 1.2.2:\n",
    "\n",
    "Take a look at the cell below:"
   ]
  },
  {
   "cell_type": "code",
   "execution_count": null,
   "id": "30adb72d",
   "metadata": {},
   "outputs": [],
   "source": [
    "x = 5\n",
    "\n",
    "y = 6\n",
    "\n",
    "z = x + y\n",
    "\n",
    "print(z)"
   ]
  },
  {
   "cell_type": "markdown",
   "id": "91e460fd",
   "metadata": {},
   "source": [
    "As shown above, variables don't always have to be explicitly set by you. You can set them equal to equations with regular numbers, or with other variables.  \n",
    "\n",
    "\n",
    "Now... what happens if we set `z` equal to something else?\n"
   ]
  },
  {
   "cell_type": "code",
   "execution_count": null,
   "id": "a7ba91f1",
   "metadata": {},
   "outputs": [],
   "source": [
    "z = x + 200\n",
    "\n",
    "print(z)"
   ]
  },
  {
   "cell_type": "markdown",
   "id": "734049ec",
   "metadata": {},
   "source": [
    "We can *overwrite* and change variables whenever we want.\n",
    "\n",
    "> This is because Python interprets code *line by line*, and not all at once. So we can have the same variable mean different things at different points in our code.\n",
    "\n",
    "Oftentimes in programming, we need to keep track of certain values as they change. This is very useful for keeping things clean and organized!  \n"
   ]
  },
  {
   "cell_type": "markdown",
   "id": "109a2d0f",
   "metadata": {},
   "source": [
    "\n",
    "Alright. Now let's do everyone's favorite thing: math."
   ]
  },
  {
   "cell_type": "markdown",
   "id": "8bae4d1b",
   "metadata": {},
   "source": [
    "### 💡 What is an operator?\n",
    "\n",
    "> The word 'operator' just means a special symbol or keyword that performs an operation on values. \n",
    "\n",
    "We use them to do all sorts of things! From math, to comparisons, to assignments. In fact, the `=` you've been using is called an *assignment operator*!\n",
    "\n",
    "### 💡 Arithmetic operators in Python\n",
    "\n",
    "You can use every symbol you've already seen in math... and some more. \n",
    "\n",
    "| Operation      | Symbol |\n",
    "|----------------|--------|\n",
    "| Addition       | `+`    |\n",
    "| Subtraction    | `-`    |\n",
    "| Multiplication | `*`    |\n",
    "| Division       | `/`    |\n",
    "| Exponentiation | `**`   |\n",
    "| Modulo         | `%`    |\n",
    "| Floor Division | `//`   |\n",
    "\n",
    "Don't worry if you haven't seen all of these before. Those last two are for use with specifically integers (which respond a little differently to regular divison). We'll look at these in a little bit.\n"
   ]
  },
  {
   "cell_type": "markdown",
   "id": "dae03346",
   "metadata": {},
   "source": [
    "### ⚙️ Example 1.2.3:\n",
    "\n",
    "Now you try! In the following cell:\n",
    "- Define three variables, `a`, `b`, and `c`, as any `integers` of your choosing. \n",
    "\n",
    "- Define a new variable of your choosing as the *sum* of `a` and `c`.  \n",
    "\n",
    "- Define a new variable of your choosing as the *difference* of `c` and `b`.  \n",
    "\n",
    "- Define a new variable of your choosing as the *product* of `a`, `b`, and `c`.  \n",
    "\n",
    "- Print the new variables."
   ]
  },
  {
   "cell_type": "code",
   "execution_count": null,
   "id": "61219a0a",
   "metadata": {},
   "outputs": [],
   "source": [
    "# your code here\n",
    "\n"
   ]
  },
  {
   "cell_type": "markdown",
   "id": "93229578",
   "metadata": {},
   "source": [
    "# 1.3: Input Statements\n",
    "\n",
    "### 💡 What does the `input()` function do?\n",
    "> `input()` allows the program to take input directly from the user, to use in the program.\n",
    "\n",
    "Take a look at the cell below:"
   ]
  },
  {
   "cell_type": "code",
   "execution_count": null,
   "id": "daa0bbaa",
   "metadata": {},
   "outputs": [],
   "source": [
    "\n",
    "favorite_food = input(\"What is your favorite food?\")\n",
    "\n",
    "print(\"Your favorite food is:\", favorite_food)\n"
   ]
  },
  {
   "cell_type": "markdown",
   "id": "eff9e856",
   "metadata": {},
   "source": [
    "What did you notice? We:\n",
    "- Paused the program to take input directly from the user  \n",
    "\n",
    "- Stored the input in a variable, `favorite_food`  \n",
    "\n",
    "- Repeated the input back to the user with a `print()` statement\n",
    "\n",
    "\n",
    "#### 🧠 Important Tip!\n",
    "> Whatever you put inside of the `input()` function will be displayed to the user as a prompt. It's most common to put a question here to let the user know what kind of answer you're looking for."
   ]
  },
  {
   "cell_type": "markdown",
   "id": "55a63b94",
   "metadata": {},
   "source": [
    "### 💡 But... we printed a variable and a string in the same line?\n",
    "> Yes, we did! Python's `print()` allows us to output as many things as we want (called arguments!).  \n",
    "\n",
    "Just separate your arguments (things) with a comma, and you can print as many as you want. You can print multiple variables, multiple strings, or a mix of both.  "
   ]
  },
  {
   "cell_type": "markdown",
   "id": "d73c22a3",
   "metadata": {},
   "source": [
    "### ⚙️ Example 1.3.1:\n",
    "\n",
    "Let's try it! In the cell below:\n",
    "- Ask the user a question via the `input()` function  \n",
    "\n",
    "- Store that answer in a variable of your choosing  \n",
    "\n",
    "- Print the user's input back to them as shown above  \n",
    "\n",
    "> Bonus: What type of variable is the user's answer? How do you know?"
   ]
  },
  {
   "cell_type": "code",
   "execution_count": null,
   "id": "af68a9d4",
   "metadata": {},
   "outputs": [],
   "source": [
    "# your code below\n",
    "\n"
   ]
  },
  {
   "cell_type": "markdown",
   "id": "a9aee862",
   "metadata": {},
   "source": [
    "### 💡 What if we want the user to input a number?\n",
    "\n",
    "> You can do this! But there's one extra step if you want to use the input as a number for calculations.\n",
    "\n",
    "Since the user's input is stored as a `string`, we'll need to *convert* the string to the appropriate type to properly represent the number. Most commonly, this will be an `integer`.\n",
    "\n",
    "We can do this with type specific functions:\n",
    "- `str()` to convert a variable to a string\n",
    "- `int()` to convert a variable to an integer\n",
    "- `float()` to convert a variable to a floating point number"
   ]
  },
  {
   "cell_type": "markdown",
   "id": "4c193626",
   "metadata": {},
   "source": [
    "### ⚙️ Example 1.3.2:\n",
    "\n",
    "Take a look at the code below:"
   ]
  },
  {
   "cell_type": "code",
   "execution_count": null,
   "id": "d8740372",
   "metadata": {},
   "outputs": [],
   "source": [
    "age_years = input(\"Enter your age in years:\")\n",
    "\n",
    "age_months = age_years * 12\n",
    "\n",
    "print(age_months)"
   ]
  },
  {
   "cell_type": "markdown",
   "id": "088a4627",
   "metadata": {},
   "source": [
    "Well, that's not quite right.  \n",
    "\n",
    "Instead of multiplying the *number* of your age by 12, instead it printed 12 copies of your age. That's because the `age_years` variable is a `string`, and strings behave a little funny when we use arithmetic operators with them.\n",
    "\n",
    "#### 🧠 Important Tip!\n",
    "> Issues like these are called bugs. The code still runs without giving us an error, but... there's a logical mistake somewhere inside that gets us an unintended output.\n",
    "\n",
    "Let's try to fix this bug by making sure `age_years` is the correct type before we do math with it."
   ]
  },
  {
   "cell_type": "code",
   "execution_count": null,
   "id": "8c949b06",
   "metadata": {},
   "outputs": [],
   "source": [
    "age_years = int(age_years)\n",
    "\n",
    "age_months = age_years * 12\n",
    "\n",
    "print(age_months)"
   ]
  },
  {
   "cell_type": "markdown",
   "id": "aad53087",
   "metadata": {},
   "source": [
    "Now it works as intended! One note on what we did:\n",
    "\n",
    "> Instead of defining a new variable, we adjusted it in line (`age_years = int(age_years)`). This is valid! \n",
    "\n",
    "You can use the variable in its own definition as long as you're *updating* the value.  \n"
   ]
  },
  {
   "cell_type": "markdown",
   "id": "62cbd742",
   "metadata": {},
   "source": [
    "Another way we would fix the type of the input is when we take the input:"
   ]
  },
  {
   "cell_type": "code",
   "execution_count": null,
   "id": "7369d0b5",
   "metadata": {},
   "outputs": [],
   "source": [
    "temp_F = int(input(\"What's the current temperature in Farenheit?\")) # we put int() in this line instead!\n",
    "\n",
    "temp_C = (temp_F - 32) * 5 / 9\n",
    "\n",
    "print(\"The temperature in Celcius is:\", temp_C)"
   ]
  },
  {
   "cell_type": "markdown",
   "id": "ac67ef4e",
   "metadata": {},
   "source": [
    "Hold on... what type is `temp_C`?"
   ]
  },
  {
   "cell_type": "code",
   "execution_count": null,
   "id": "cf818162",
   "metadata": {},
   "outputs": [],
   "source": [
    "print(type(temp_C))"
   ]
  },
  {
   "cell_type": "markdown",
   "id": "52e6b96b",
   "metadata": {},
   "source": [
    "We did math with all `integers`... but got a `float` out instead?  \n",
    "\n",
    ">Yes, we did! That's because the operator `/` performs what's called \"true division\" and *automatically converts* integers to `floats`.\n",
    "\n",
    "If you wanted to do `integer` division only, you use the `//` operator instead. This will round the result down to the nearest `integer`.  \n"
   ]
  },
  {
   "cell_type": "markdown",
   "id": "38359a0b",
   "metadata": {},
   "source": [
    "\n",
    "Try changing the `/` to a `//` in the cell above to see what happens! Re-run the block below it to see the updated type."
   ]
  },
  {
   "cell_type": "markdown",
   "id": "d50e1764",
   "metadata": {},
   "source": [
    "# 1.4: Formatting Output\n",
    "\n",
    "### 💡 What does formatting output mean?\n",
    "\n",
    "> Formatting just means being specific about the way we display our output, not just what is being displayed.\n",
    "\n",
    "For example, say that we had a price for something that we wanted to display. Dollar amounts are decimal numbers, but they only ever have 2 decimal places. But Python doesn't know that.  \n",
    "\n",
    "We can input numbers that match this format, but if we ever wanted to dynamically adjust price or do math with the number, Python isn't going to keep the 2 decimal places consistent.\n",
    "\n",
    "### ⚙️ Example 1.4.1:"
   ]
  },
  {
   "cell_type": "code",
   "execution_count": null,
   "id": "046af459",
   "metadata": {},
   "outputs": [],
   "source": [
    "price = 75.99\n",
    "\n",
    "half_off = price / 2\n",
    "\n",
    "print(\"Your half off price is: $\", half_off)"
   ]
  },
  {
   "cell_type": "markdown",
   "id": "275fa869",
   "metadata": {},
   "source": [
    "Something like this is where what's called `string formatting` comes into play. We need to explicitly tell Python to make sure that number is only displayed with 2 decimal places. It'll also help us get rid of that space between the dollar sign and the amount up there.  \n",
    "\n",
    "We can do that like this:"
   ]
  },
  {
   "cell_type": "code",
   "execution_count": null,
   "id": "bdfa46e6",
   "metadata": {},
   "outputs": [],
   "source": [
    "print(\"Your half off price is: ${:.2f}\".format(half_off))"
   ]
  },
  {
   "cell_type": "markdown",
   "id": "67d53e57",
   "metadata": {},
   "source": [
    "Now that looks way better!  \n",
    "\n",
    "In order to replicate this yourself, all you need to do is put curly braces `{}` in the string where you want your variable to be placed, and use the `.format()` method to tell Python which variable to put in that spot.  \n",
    "\n",
    "The `:.2f` inside of the curly braces tells Python to truncate the float in that spot to 2 decimal places.  "
   ]
  },
  {
   "cell_type": "markdown",
   "id": "785a8656",
   "metadata": {},
   "source": [
    "Alright. One more thing before we move on to today's tasks: the newline character.  \n",
    "\n",
    "### 💡 What is a newline (`\\n`) ?\n",
    "> The newline character, `\\n`, is just a way of telling Python to press the `enter` key. That's it!\n",
    "\n",
    "You can use it in your strings to split up lines and make your output more readable. It looks a little strange, but it's a very useful tool.\n",
    "\n",
    "\n",
    "### ⚙️ Example 1.4.2:\n",
    "\n",
    "Take a look here:"
   ]
  },
  {
   "cell_type": "code",
   "execution_count": null,
   "id": "06e7677a",
   "metadata": {},
   "outputs": [],
   "source": [
    "print(\"Hello\\nWorld!\")"
   ]
  },
  {
   "cell_type": "markdown",
   "id": "12a7b216",
   "metadata": {},
   "source": [
    "See? The newline `\\n` is interpreted as a press of the `enter` key. You can use it wherever you'd like, so feel free to experiment with using it to format your output!"
   ]
  },
  {
   "cell_type": "markdown",
   "id": "310c7d56",
   "metadata": {},
   "source": [
    "# 1.5: Challenge Tasks\n",
    "\n",
    "Awesome job getting to this point! For the rest of today, let's try to use what we've learned to do a couple challenge tasks.  \n",
    "\n",
    "> Feel free to program by yourself or with a buddy, and don't hesitate to ask questions if you have them. The code above is a good reference, too!"
   ]
  },
  {
   "cell_type": "markdown",
   "id": "2dce2470",
   "metadata": {},
   "source": [
    "### 🏆 Task 1: Mad Libs\n",
    "\n",
    "For this task, we'll create a small Mad Libs game. In the cell below:\n",
    "- Ask the user for four different parts of speech. For example: a noun, an adjective, a plural noun, and a verb.\n",
    "- Use these inputs in a printed sentence.\n",
    "\n",
    "Example output:  \n",
    "\n",
    "```\n",
    "Enter a noun: (user enters \"dog\")\n",
    "Enter an adjective: (user enters \"green\")\n",
    "Enter a plural noun: (user enters \"ducks\")\n",
    "Enter a past tense verb: (user enters \"scared\")\n",
    "\n",
    "The green dog went to the park and scared the ducks.\n",
    "```\n",
    "\n",
    "##### Bonus: Want an extra challenge? Try:\n",
    "- Have the user input a singular noun. Make it plural in your print statement.\n",
    "- Have the user input a present tense verb. Make it past tense in your print statement.\n",
    "- Can you make the story longer?"
   ]
  },
  {
   "cell_type": "code",
   "execution_count": null,
   "id": "4d95e171",
   "metadata": {},
   "outputs": [],
   "source": [
    "# your code here\n",
    "\n",
    "\n",
    "\n",
    "\n"
   ]
  },
  {
   "cell_type": "markdown",
   "id": "7a3aa0f6",
   "metadata": {},
   "source": [
    "### 🏆 Task 2: Tip Calculator\n",
    "\n",
    "This task is more calculation oriented. In the cell below:  \n",
    "\n",
    "- Ask the user for a dollar amount (hint: what type is this? what type do we need to convert the input to?)\n",
    "- Calculate various options for gratuity: a 10% tip, a 15% tip, a 20% tip\n",
    "- Print these options as a total dollar amount (tip + original amount).\n",
    "\n",
    "Example output:  \n",
    "\n",
    "```\n",
    "Enter a dollar amount: (user enters 5.99)\n",
    "10% Tip: $6.59\n",
    "15% Tip: $6.89\n",
    "20% Tip: $7.19\n",
    "```\n",
    "\n",
    "#### Bonus: Want an extra challenge? Try:\n",
    "\n",
    "- Adding CT state tax (6.35%) to the tip amount for tip + estimated tax\n",
    "- Let the user enter their own tip percentage (hint: you'll need to convert a percent to a decimal!)\n",
    "- Ask how many people are splitting the bill and divide the total amount accordingly"
   ]
  },
  {
   "cell_type": "code",
   "execution_count": null,
   "id": "92590c9d",
   "metadata": {},
   "outputs": [],
   "source": [
    "# your code here"
   ]
  },
  {
   "cell_type": "markdown",
   "id": "ec322766",
   "metadata": {},
   "source": [
    "# 🚪 Exit Ticket\n",
    "\n",
    "Before you leave here today, we'd love for you to submit this file on HuskyCT with all of your work so we can save it for you. At the end of camp (or on request), you'll get a .zip file with all your code.\n",
    "\n",
    "> We can't guarantee that your work will save unless you submit it. It might, but we want to be sure!\n",
    "\n",
    "In order to complete today's exit ticket, please:\n",
    "- Attempt at least one of the above challenge tasks\n",
    "- Answer the following short reflection questions in the cell below\n",
    "\n",
    "Submit this file in HuskyCT under \"Code Explorer>Session 1 7/14/25>Session 1: Save Your Code!\". You'll see a submission link there!"
   ]
  },
  {
   "cell_type": "markdown",
   "id": "93ecd81e",
   "metadata": {},
   "source": [
    "### Exit Ticket Questions\n",
    "\n",
    "You can double click on this cell to edit its contents. Try it, and please answer the following questions below!:\n",
    "\n",
    "1. What is one thing from today that you enjoyed?\n",
    "2. What is one thing from today that you would do differently?\n",
    "3. What is one thing you would like to learn how to do in Python by the end of Code Explorer?"
   ]
  }
 ],
 "metadata": {
  "kernelspec": {
   "display_name": "Python 3",
   "language": "python",
   "name": "python3"
  },
  "language_info": {
   "codemirror_mode": {
    "name": "ipython",
    "version": 3
   },
   "file_extension": ".py",
   "mimetype": "text/x-python",
   "name": "python",
   "nbconvert_exporter": "python",
   "pygments_lexer": "ipython3",
   "version": "3.10.11"
  }
 },
 "nbformat": 4,
 "nbformat_minor": 5
}
