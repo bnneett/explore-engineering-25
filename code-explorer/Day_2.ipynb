{
 "cells": [
  {
   "cell_type": "markdown",
   "id": "a969f962",
   "metadata": {},
   "source": [
    "# 2.1: Your First (?) Function\n",
    "\n",
    "## 💡 What is a function?\n",
    "\n",
    "> In programming, a function is an entire block of code wrapped up into one line. Every time you use that one line, you run the entire block.  \n",
    "\n",
    "Sometimes you can give it input, and sometimes it'll give you something back. But overall, a function is like it's own little program you can run whenever you want.  \n",
    "\n",
    "There are both what're called native functions, like `print()` or `input()` that come with Python, and functions that you as the programmer can create.  \n",
    "\n",
    "## 💡 Why do we use functions?\n",
    "\n",
    "- To avoid repeating blocks of code\n",
    "- To organize a program into sections\n",
    "- To make your code easier to read and fix (just like variables!)\n",
    "\n",
    "In more literal terms, functions have two main purposes in your program: to do a task, or to give you something back.\n",
    "\n",
    "## 💡 How do we make functions?\n",
    "\n",
    "> The syntax is pretty straightforward, but there are some important things to consider:\n",
    "\n",
    "- Use the keyword `def` to start a function definition\n",
    "- Name your function after it's purpose, like you would a tool (`greet_user()`, `roll_dice()`, etc.)\n",
    "- The `()` is where inputs go (more on this later)\n",
    "- Use a `:` to start the block\n",
    "- Make sure everything you want included in the function is indented\n",
    "\n",
    "Now let's take a look at some basic functions that don't require input.\n"
   ]
  },
  {
   "cell_type": "markdown",
   "id": "4960101b",
   "metadata": {},
   "source": [
    "\n",
    "## ⚙️ Example 2.1:\n"
   ]
  },
  {
   "cell_type": "code",
   "execution_count": null,
   "id": "f852b5d9",
   "metadata": {},
   "outputs": [],
   "source": [
    "def greet_user():\n",
    "    print(\"Hello, user!\")"
   ]
  },
  {
   "cell_type": "markdown",
   "id": "c4042515",
   "metadata": {},
   "source": [
    "Above is an example of a function whose purpose is to print something. In this case, a greeting.  \n",
    "\n",
    "But... if you run the cell above, you'll see that nothing actually prints. That's because we didn't actually use the function yet! All we did was define it.  \n",
    "\n",
    "Let's call the function now:"
   ]
  },
  {
   "cell_type": "code",
   "execution_count": null,
   "id": "858cee24",
   "metadata": {},
   "outputs": [],
   "source": [
    "greet_user()"
   ]
  },
  {
   "cell_type": "markdown",
   "id": "1a99f530",
   "metadata": {},
   "source": [
    "Cool! Now let's look at another use for a function:"
   ]
  },
  {
   "cell_type": "code",
   "execution_count": null,
   "id": "28889e67",
   "metadata": {},
   "outputs": [],
   "source": [
    "def get_snacks():\n",
    "    return \"🍪🍪🍪\""
   ]
  },
  {
   "cell_type": "markdown",
   "id": "5798ce10",
   "metadata": {},
   "source": [
    "There's a different keyword in this function: `return`. `return` is different from `print()` for one distinct reason:\n",
    "\n",
    "> `print()` just displays the result of the function, but `return` lets us save the result for later.\n",
    "\n",
    "Let's take a look:"
   ]
  },
  {
   "cell_type": "code",
   "execution_count": null,
   "id": "558c045e",
   "metadata": {},
   "outputs": [],
   "source": [
    "snacks = get_snacks()\n",
    "\n",
    "greeting = greet_user()"
   ]
  },
  {
   "cell_type": "markdown",
   "id": "d7867cf4",
   "metadata": {},
   "source": [
    "Only the greeting prints something, because only the greeting has a `print()` statement in it.  \n",
    "\n",
    "Furthermore:"
   ]
  },
  {
   "cell_type": "code",
   "execution_count": null,
   "id": "caeecdf2",
   "metadata": {},
   "outputs": [],
   "source": [
    "print(snacks)\n",
    "\n",
    "print(greeting)"
   ]
  },
  {
   "cell_type": "markdown",
   "id": "bd810508",
   "metadata": {},
   "source": [
    "You see that `None` there? That happens because the `greet_user()` function only shows the greeting when we run it, and doesn't save it for later. So the variable `greeting` is empty.\n",
    "\n",
    "On the other hand, the `get_snacks()` function saves those snacks in a place where we can use them again, but doesn't display them inherently when we run it. In this case, it saves them inside the variable `snacks`."
   ]
  },
  {
   "cell_type": "markdown",
   "id": "b82bd2b0",
   "metadata": {},
   "source": [
    "### 🤔 Check Your Understanding:\n",
    "\n",
    "#### Where does function output go when we use `return`?\n",
    "\n",
    "---"
   ]
  },
  {
   "cell_type": "markdown",
   "id": "77cf2bcf",
   "metadata": {},
   "source": [
    "# 2.2: More Function Functionality"
   ]
  },
  {
   "cell_type": "markdown",
   "id": "cd6f51c1",
   "metadata": {},
   "source": [
    "Functions aren't just things that print or return the same output every single time. Sometimes, you want the output to depend on the input you give it.  \n",
    "\n",
    "## 💡 What are parameters?\n",
    "\n",
    "> A parameter is a placeholder variable that you use when you define a function with input.\n",
    "\n",
    "In the `def` statement, remember we also had those `()` before the `:`.  That's where you can define parameters for use in your function. For example:\n",
    "\n",
    "## ⚙️ Example 2.2:"
   ]
  },
  {
   "cell_type": "code",
   "execution_count": null,
   "id": "967ab5e8",
   "metadata": {},
   "outputs": [],
   "source": [
    "def greeting(name):\n",
    "    print(\"Hello, {}!\".format(name))"
   ]
  },
  {
   "cell_type": "markdown",
   "id": "5b7479a5",
   "metadata": {},
   "source": [
    "Here's an upgraded version of our previous `greet_user()` function. Now when you call `greeting()`, you need to give it a name as input:"
   ]
  },
  {
   "cell_type": "code",
   "execution_count": null,
   "id": "b0cf272d",
   "metadata": {},
   "outputs": [],
   "source": [
    "greeting(\"Sarah\")"
   ]
  },
  {
   "cell_type": "markdown",
   "id": "b4d5eb22",
   "metadata": {},
   "source": [
    "You can call this same function as many times as you want with different inputs. Try putting your own name as input in the `greeting()` function down below:"
   ]
  },
  {
   "cell_type": "code",
   "execution_count": null,
   "id": "222303c6",
   "metadata": {},
   "outputs": [],
   "source": [
    "# use the greeting() function with your own name as input\n",
    "\n",
    "# your code here"
   ]
  },
  {
   "cell_type": "markdown",
   "id": "045dd812",
   "metadata": {},
   "source": [
    "You can do the same thing using `return`, too. With these, we can make some pretty cool tools of our own. Let's try it!  "
   ]
  },
  {
   "cell_type": "markdown",
   "id": "5006bf51",
   "metadata": {},
   "source": [
    "In the cell below, let's try creating an `add(x, y)` function that adds two inputted numbers together, `x` and `y`. You can separate parameters in your definition with a `,`.  \n",
    "\n"
   ]
  },
  {
   "cell_type": "code",
   "execution_count": null,
   "id": "1dd0f97a",
   "metadata": {},
   "outputs": [],
   "source": [
    "# create a function called add(x, y) that adds two numbers together.\n",
    "\n",
    "# your code here\n",
    "\n"
   ]
  },
  {
   "cell_type": "markdown",
   "id": "7bec1965",
   "metadata": {},
   "source": [
    "Once you have your function, run the cell down below to test some outputs. Are you getting the right values?"
   ]
  },
  {
   "cell_type": "code",
   "execution_count": null,
   "id": "bd68d506",
   "metadata": {},
   "outputs": [],
   "source": [
    "# let's test it down here:\n",
    "\n",
    "print(add(5, 6))\n",
    "\n",
    "print(add(10, 12))\n",
    "\n",
    "print(add(-97, 100))"
   ]
  },
  {
   "cell_type": "markdown",
   "id": "b594f4de",
   "metadata": {},
   "source": [
    "### 🤔 Check Your Understanding:\n",
    "\n",
    "#### Why do we have to put the `print()` around our function calls?"
   ]
  },
  {
   "cell_type": "markdown",
   "id": "5ff6c314",
   "metadata": {},
   "source": [
    "---"
   ]
  },
  {
   "cell_type": "markdown",
   "id": "2fcfa6d7",
   "metadata": {},
   "source": [
    "# 2.3: The `randint()` Function\n",
    "\n",
    "## 💡 Using modules in Python\n",
    "\n",
    "> There's a lot of stuff you can do in Python, but not all of it is included with the base Python program.\n",
    "\n",
    "But! There are a lot of natively supported extensions or code libraries that we can `import` into our program. In order to do that, we need to tell Python which libraries (called modules) we want to use."
   ]
  },
  {
   "cell_type": "code",
   "execution_count": null,
   "id": "b5f2d199",
   "metadata": {},
   "outputs": [],
   "source": [
    "import random"
   ]
  },
  {
   "cell_type": "markdown",
   "id": "206ef208",
   "metadata": {},
   "source": [
    "That's what the `import` keyword is for. Now that we've imported `random`, we can use its functions in our program!"
   ]
  },
  {
   "cell_type": "markdown",
   "id": "3bd73775",
   "metadata": {},
   "source": [
    "## 💡 What does `randint()` do?\n",
    "\n",
    "> When given a `start` and `stop` argument, `randint()` returns a random integer between those two values.\n",
    "\n",
    "Specifically, `randint()` returns any of the integers from the `start` and the `stop`, including both end points. \n",
    "\n",
    "Let's take a look:  \n",
    "\n",
    "## ⚙️ Example 2.3:\n",
    "\n",
    "In the cell below, we'll show you how to call the `randint()` function, and save its results inside of a variable, `result`."
   ]
  },
  {
   "cell_type": "code",
   "execution_count": null,
   "id": "bfd3edc2",
   "metadata": {},
   "outputs": [],
   "source": [
    "result = random.randint(1, 10)\n",
    "\n",
    "print(result)"
   ]
  },
  {
   "cell_type": "markdown",
   "id": "23cf0554",
   "metadata": {},
   "source": [
    "Try running the above cell a couple times. `result` changes every time!  \n",
    "\n",
    "If you've ever played a game involving dice, this is the best way to replicate that functionality in Python.  \n",
    "\n",
    "In fact, let's try that. In the cell below:\n",
    "- Define a function named `roll_dice()` that takes the `num_sides` parameter as input.\n",
    "- The `roll_dice()` function should use the `num_sides` parameter to `return` a random integer between 1 and the number of sides on your dice."
   ]
  },
  {
   "cell_type": "code",
   "execution_count": null,
   "id": "da38e89c",
   "metadata": {},
   "outputs": [],
   "source": [
    "# define your roll_dice() function here:\n",
    "\n"
   ]
  },
  {
   "cell_type": "markdown",
   "id": "5646a974",
   "metadata": {},
   "source": [
    "Now let's test out your `roll_dice()` function. Call your function with the following number of sides: \n",
    "- 6\n",
    "- 8\n",
    "- 10\n",
    "- 20"
   ]
  },
  {
   "cell_type": "code",
   "execution_count": null,
   "id": "0c26b0cf",
   "metadata": {},
   "outputs": [],
   "source": [
    "# call your roll_dice() function four times with different inputs\n",
    "\n"
   ]
  },
  {
   "cell_type": "markdown",
   "id": "ee7ee252",
   "metadata": {},
   "source": [
    "### 🤔 Check Your Understanding:\n",
    "\n",
    "If I define:\n",
    "\n",
    "`result = random.randint(5, 12)` \n",
    "\n",
    "What is the range of numbers that `result` could be?"
   ]
  },
  {
   "cell_type": "markdown",
   "id": "3ac3eb17",
   "metadata": {},
   "source": [
    "---"
   ]
  },
  {
   "cell_type": "markdown",
   "id": "beb358e0",
   "metadata": {},
   "source": [
    "# 2.4: Booleans\n",
    "\n",
    "## 💡 What is a boolean?\n",
    "\n",
    "> A boolean is a type of variable that can only ever be `True` or `False`. They're very important for doing most complex things in Python.\n",
    "\n",
    "In order to define a boolean, we can either explicitly set a variable equal to `True` or `False`, or use a special operator.  \n",
    "\n",
    "## 💡 Comparison operators in Python\n",
    "\n",
    "| Comparison | Operator |\n",
    "| ---------- | -------- |\n",
    "| Equal      | `==`     |\n",
    "| Not equal  | `!=`     |\n",
    "| Greater than | `>`    |\n",
    "| Less than  | `<`      |  \n",
    "\n",
    "> It's important not to confuse the `==` comparison operator with the `=` assignment operator. `==` evaluates whether two expressions are equal, while `=` assigns a given value to a variable.\n",
    "\n",
    "You can also do compound comparisons, like greater than or equal to `>=` and less than or equal to `<=`.\n",
    "\n",
    "\n",
    "## 💡 Boolean operators in Python\n",
    "\n",
    "In addition to the above operators for comparing expressions, there are operators that can only be used on booleans, too. These might look familiar:\n",
    "\n",
    "| Function | Operator | Effect |\n",
    "| -------- | -------- | ------ |\n",
    "| AND      | `and`    | Returns `True` when both arguments are `True` |\n",
    "| OR       | `or`     | Returns `True` when either argument is `True` |\n",
    "| NOT      | `not`    | Returns `True` if given `False`, and `False` if given `True` |"
   ]
  },
  {
   "cell_type": "markdown",
   "id": "83bca09f",
   "metadata": {},
   "source": [
    "Now that we have the operators to use, let's define some booleans.  \n",
    "\n",
    "## ⚙️ Example 2.4:  \n",
    "\n",
    "Booleans are defined in the same way as other variables, but they require an expression with one of the above operators.  "
   ]
  },
  {
   "cell_type": "code",
   "execution_count": null,
   "id": "961c73c8",
   "metadata": {},
   "outputs": [],
   "source": [
    "\n",
    "eq = 5 == 3\n",
    "\n",
    "ne = 5 != 3\n",
    "\n",
    "gt = 5 > 3\n",
    "\n",
    "lt = 5 < 3\n",
    "\n",
    "print(\"Equal?: {}\\nNot Equal?: {}\\nGreater Than?: {}\\nLess Than?: {}\".format(eq, ne, gt, lt)) # this is how you can use .format() with multiple arguments!\n",
    "\n"
   ]
  },
  {
   "cell_type": "markdown",
   "id": "c4ab0b93",
   "metadata": {},
   "source": [
    "> It looks a little funny, but remember that booleans are the entire expression, like `5 == 3` is `False`.  \n",
    "\n",
    "It makes more sense to use them when we're not sure what the result will be, like if it depends on input from the user. So let's try that down below!  \n",
    "\n",
    "In the cell below, \n",
    "- Recreate the comparison check above \n",
    "- Instead of using `5` and `3`, take the user's input for both numbers"
   ]
  },
  {
   "cell_type": "code",
   "execution_count": null,
   "id": "19818c65",
   "metadata": {},
   "outputs": [],
   "source": [
    "# in this cell, ask the user for two different integers and print out four different comparison booleans like above\n",
    "\n",
    "# your code here\n"
   ]
  },
  {
   "cell_type": "markdown",
   "id": "79700ee5",
   "metadata": {},
   "source": [
    "### 🤔 Check Your Understanding:\n",
    "\n",
    "What's the difference between these two lines?:\n",
    "\n",
    "`x = 3`\n",
    "\n",
    "and \n",
    "\n",
    "`x == 3`"
   ]
  },
  {
   "cell_type": "markdown",
   "id": "7b525dd0",
   "metadata": {},
   "source": [
    "---"
   ]
  },
  {
   "cell_type": "markdown",
   "id": "bedd0f0d",
   "metadata": {},
   "source": [
    "# 2.5: Control Flow Pt. 1: Conditionals"
   ]
  },
  {
   "cell_type": "markdown",
   "id": "769a2225",
   "metadata": {},
   "source": [
    "Now that we know how to define and use booleans, there's a whole new world we've just unlocked in Python.\n",
    "\n",
    "## 💡 What is a conditional?\n",
    "> A conditional is a block of code that executes ONLY if a provided condition is `True`. It's a way to branch off your code depending on different inputs or results.\n",
    "\n",
    "The main conditional statements in Python are `if` and `else`. There is also a third statement called `elif` that is a shortened version of `else if`.\n",
    "\n",
    "\n",
    "## 💡 How to create an `if` statement\n",
    "\n",
    "In order to create an `if` statement in Python, we need the following syntax:\n",
    "- Start with the `if` keyword\n",
    "- Following the `if` keyword should be a boolean expression that you want to evaluate (e.g. `x == 5`, `a > b`, `c and d`)\n",
    "- End the line with a `:`, just like a function definition\n",
    "- Make sure you indent the lines you want to execute when the statement returns `True`, also like a function definition.\n",
    "\n",
    "## 💡 What about `else` and `elif`?\n",
    "\n",
    "> `else` is an optional conditional that you can include after an `if` statement. The indented block under an `else:` line will execute only if the `if` boolean expression returns `False`.\n",
    "\n",
    "> `elif` is the two words `else` and `if` mashed together. It goes under an `if` statement and above an `else` statement, and is a way to check for multiple independent conditions. Syntax is similar to an `if` statement.\n",
    "\n",
    "\n",
    "Alright. That's a lot of stuff. Let's try it!"
   ]
  },
  {
   "cell_type": "markdown",
   "id": "4679f0b0",
   "metadata": {},
   "source": [
    "## ⚙️ Example 2.5:  \n",
    "\n",
    "In this example, we'll take some input from the user and use it to compare with a predetermined number."
   ]
  },
  {
   "cell_type": "code",
   "execution_count": null,
   "id": "105bb9bf",
   "metadata": {},
   "outputs": [
    {
     "name": "stdout",
     "output_type": "stream",
     "text": [
      "10 is 10!\n"
     ]
    }
   ],
   "source": [
    "number = int(input(\"Give me a number!\"))\n",
    "\n",
    "if number == 10:\n",
    "    print(\"{} is 10!\".format(number))\n",
    "\n",
    "elif number > 10:\n",
    "    print(\"{} is greater than 10!\".format(number))\n",
    "\n",
    "else:\n",
    "    print(\"{} is less than 10!\".format(number))\n"
   ]
  },
  {
   "cell_type": "markdown",
   "id": "627da182",
   "metadata": {},
   "source": [
    "Notice how we checked for two different conditions: whether the number is equal to 10, or greater than 10. The `else` does not need a condition to check, because it only runs when the conditions above it ALL evaluate to `False`.  \n",
    "\n",
    "As the programmer, I know that the `else` block will only run if the number is less than 10, so we don't need to explicitly check for it. There's only so many options when it comes to comparisons!"
   ]
  },
  {
   "cell_type": "markdown",
   "id": "dcbbb461",
   "metadata": {},
   "source": [
    "Let's try using some different pieces we learned today in a small \"guess the number\" game.  \n",
    "\n",
    "In the block below:\n",
    "- Ask the user to guess a number between 1 and 10\n",
    "- Use `randint()` to generate a random number between 1 and 10\n",
    "- If the numbers match, tell the user that they won with a `print` statement\n",
    "- If the numbers don't match, tell the user to try again with a `print` statement\n",
    "\n",
    "Try it out! You can play this game too since the numbers are random. How many can you guess in a row?"
   ]
  },
  {
   "cell_type": "code",
   "execution_count": null,
   "id": "b8cc511e",
   "metadata": {},
   "outputs": [],
   "source": [
    "# write your \"guess the number\" code here\n",
    "\n",
    "\n",
    "\n",
    "\n",
    "\n"
   ]
  },
  {
   "cell_type": "markdown",
   "id": "1157521a",
   "metadata": {},
   "source": [
    "### 🤔 Check Your Understanding:\n",
    "\n",
    "What do you think would happen if we had two `if` statements, one after the other, with no `else`? Like this:\n",
    "\n",
    "```\n",
    "if x == y:\n",
    "    # do stuff if x == y\n",
    "if x > z:\n",
    "    # do stuff if x > z\n",
    "```\n",
    "\n",
    "Does the program:\n",
    "1. Execute the second `if` only if the first is `False`?\n",
    "2. Execute the second `if` only if the first is `True`?\n",
    "3. Execute the second `if` no matter what the first evaluates to?"
   ]
  },
  {
   "cell_type": "markdown",
   "id": "0808a195",
   "metadata": {},
   "source": [
    "# 2.6: Challenge Tasks"
   ]
  },
  {
   "cell_type": "markdown",
   "id": "b3524069",
   "metadata": {},
   "source": [
    "## 🏆 Task 1: Expanded Calculator\n",
    "\n",
    "For this task, we'll define a `calculator()` function that takes three parameters as input: `x`, `y`, and `selection`. You'll write the internal logic to perform the operation the user selects with two numbers, `x` and `y`.\n",
    "\n",
    "In the cell below:\n",
    "- Define a `calculator()` function with parameters `x`, `y`, and `selection`. `x` and `y` should be integers, and `selection` should be a string (like \"add\", \"subtract\", \"multiply\", \"divide\")\n",
    "- Using `if` and `elif`, write the logic to perform the selected operation with `x` and `y`.\n",
    "- Make sure to `return` the result no matter what the operation is (hint: you can define variables inside of functions!)\n",
    "- Ask the user to provide two integers and select an operation.\n",
    "- Call your `calculator()` function with those three inputs, and print the result.\n",
    "\n",
    "> Tip: You can use the operators `==` and `!=` with strings, too. Be aware, however, that it will check for exact ASCII matches, and is caps-sensitive!\n"
   ]
  },
  {
   "cell_type": "markdown",
   "id": "47f55a5b",
   "metadata": {},
   "source": [
    "Example output:\n",
    "\n",
    "```\n",
    "Input a number: (user inputs 5)\n",
    "Input another number: (user inputs 10)\n",
    "What operation would you like to perform? 'add', 'subtract', 'multiply', or 'divide'? (user inputs 'multiply')\n",
    "\n",
    "Your result is: 50\n",
    "```"
   ]
  },
  {
   "cell_type": "markdown",
   "id": "72d1c585",
   "metadata": {},
   "source": [
    "\n",
    "#### What an extra challenge? Try:\n",
    "- What if the user inputs something that isn't an option? How do we catch that?\n",
    "- Can you create a different calculator for booleans, with `and`, `or`, and `not` as operations?"
   ]
  },
  {
   "cell_type": "code",
   "execution_count": null,
   "id": "8c6d78bd",
   "metadata": {},
   "outputs": [],
   "source": [
    "# your calculator code here:\n",
    "\n",
    "def calculator(x, y, selection):\n",
    "    # your logic here\n",
    "\n"
   ]
  },
  {
   "cell_type": "code",
   "execution_count": null,
   "id": "87ac8cba",
   "metadata": {},
   "outputs": [],
   "source": [
    "# function testing:\n",
    "\n",
    "print(calculator(5, 6, \"add\"))\n",
    "\n",
    "print(calculator(10, 12, \"multiply\"))"
   ]
  },
  {
   "cell_type": "code",
   "execution_count": null,
   "id": "cd43758a",
   "metadata": {},
   "outputs": [],
   "source": [
    "# allow the user to input their own numbers and operation here:\n",
    "\n",
    "\n"
   ]
  },
  {
   "cell_type": "markdown",
   "id": "1e99e29a",
   "metadata": {},
   "source": [
    "## 🏆 Task 2: Tiny Adventure\n",
    "\n",
    "For this task, we'll go on a teeny tiny adventure. Set the scene for your user, and give them at least 3 different options to choose from to progress the story. You can decide the setting and choices.\n",
    "\n",
    "In the cell below:\n",
    "- Using the `print()` function, describe a small scene your player finds themselves in. It could be a cave, a house, a spaceship, etc. It's up to you.\n",
    "- Give your player a few options to choose from for how they'd like to proceed.\n",
    "- Process potential options using `if`, `elif`, and `else`. Let the player know what happens when they select each option!\n",
    "\n",
    "> Tip: the newline character `\\n` can help you separate your lines for clarity!"
   ]
  },
  {
   "cell_type": "markdown",
   "id": "a7237013",
   "metadata": {},
   "source": [
    "Example output:\n",
    "\n",
    "```\n",
    "You find yourself in a deep, dark cave with two paths in front of you: the left tunnel, and the right tunnel.\n",
    "Do you 'go left', 'go right', or 'do nothing'? (user inputs 'do nothing')\n",
    "\n",
    "You sit on the cave floor and do nothing. After a few hours, a giant spider comes along and eats you!\n",
    "You're dead. Game over! Try again?\n",
    "````"
   ]
  },
  {
   "cell_type": "markdown",
   "id": "4c1014e2",
   "metadata": {},
   "source": [
    "#### Want an extra challenge? Try:\n",
    "- What do you do if the user inputs something that isn't accounted for? (like something besides the options you provide)\n",
    "- Can you make more than one choice possible? (hint: you can put `if` statements inside of other `if` statements!)"
   ]
  },
  {
   "cell_type": "code",
   "execution_count": null,
   "id": "819e810f",
   "metadata": {},
   "outputs": [],
   "source": [
    "# your tiny adventure code here:\n",
    "\n",
    "\n",
    "\n"
   ]
  },
  {
   "cell_type": "markdown",
   "id": "0628afca",
   "metadata": {},
   "source": [
    "## 🏆 Task 3: Magic 8 Ball\n",
    "\n",
    "For this task, we'll recreate the magic of the magic 8 ball toy, which is a generator that gives a random response to a user inputted question. Typically, there are four random responses to a question.\n",
    "\n",
    "In the cell below:\n",
    "- Ask the user for a question they would like to ask the magic 8 ball\n",
    "- Create a function, `magic_8_ball()`, that takes no parameters as input and returns nothing\n",
    "- Use the `randint()` function to generate a random integer between 1 and 4.\n",
    "- Use this random number to select 1 of 4 possible responses to the user's question using `if`, `elif`, and `else` blocks. Possible respones might be: \"Yes\", \"No\", \"I don't know\", or \"Ask again later'.\n",
    "- Make sure to print the responses inside of the function!\n",
    "\n",
    "> Tip: You'll need to define a variable to store your random number in so you can compare it to each option."
   ]
  },
  {
   "cell_type": "markdown",
   "id": "69c5fbfc",
   "metadata": {},
   "source": [
    "Example output:\n",
    "\n",
    "```\n",
    "Ask the magic 8 ball a question: (user inputs \"Should I cut all my hair off?\")\n",
    "\n",
    "Magic 8 ball says:\n",
    "Yes.\n",
    "```"
   ]
  },
  {
   "cell_type": "markdown",
   "id": "41bf25b6",
   "metadata": {},
   "source": [
    "#### Want an extra challenge? Try:\n",
    "- Give it more responses!\n",
    "- Make one of the respones be the Magic 8 Ball asking a follow up question for the user to answer! Now you have a whole new set of responses to generate!"
   ]
  },
  {
   "cell_type": "code",
   "execution_count": null,
   "id": "0b66cfc7",
   "metadata": {},
   "outputs": [],
   "source": [
    "# your magic 8 ball function goes here:\n",
    "\n",
    "def magic_8_ball():\n",
    "    # your logic here"
   ]
  },
  {
   "cell_type": "markdown",
   "id": "820773b9",
   "metadata": {},
   "source": [
    "---\n",
    "\n",
    "Awesome job getting to this point! Remember to submit your code in HuskyCT so we can save it for you!\n",
    "\n",
    "We'll go over the final project on Day 3!"
   ]
  }
 ],
 "metadata": {
  "kernelspec": {
   "display_name": "Python 3",
   "language": "python",
   "name": "python3"
  },
  "language_info": {
   "codemirror_mode": {
    "name": "ipython",
    "version": 3
   },
   "file_extension": ".py",
   "mimetype": "text/x-python",
   "name": "python",
   "nbconvert_exporter": "python",
   "pygments_lexer": "ipython3",
   "version": "3.10.11"
  }
 },
 "nbformat": 4,
 "nbformat_minor": 5
}
