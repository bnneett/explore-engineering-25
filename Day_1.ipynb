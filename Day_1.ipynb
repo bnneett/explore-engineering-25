{
 "cells": [
  {
   "cell_type": "markdown",
   "id": "03f1e2b2",
   "metadata": {},
   "source": [
    "# 1.1: Print Statements\n",
    "\n",
    "### 💡 What is a `print()` statement?\n",
    "\n",
    "> Think of a `print()` as the program's way of *talking to you*.  \n",
    "\n",
    "When you write `print()`, you're telling the program to display something on the screen.\n",
    "\n",
    "### 💡 Where do `print()` statements show up?\n",
    "\n",
    "> When you run a program, anything inside a `print()` will show up in a *designated output area*.  \n",
    "\n",
    "This is typically either right underneath the block of code or in a black terminal window.\n",
    "\n",
    "### 💡 What are they used for?\n",
    "\n",
    "There are a lot of reasons we might use these statements. Some include:\n",
    "\n",
    "- To tell the user a message (`print(\"Hello!\")`)\n",
    "\n",
    "- To show results to the user (`print(\"Your total is:\", total)`)\n",
    "\n",
    "- To help you see what's happening in your code (especially useful for debugging!)"
   ]
  },
  {
   "cell_type": "markdown",
   "id": "c7ad4fb0",
   "metadata": {},
   "source": [
    "### ⚙️ Example 1.1:\n",
    "\n",
    "Take a look at the block of code below. In order to run the block, hover over it and find the small \"play\" button in the top left corner.\n",
    "\n",
    "Try running the block of code. Can you see the output?"
   ]
  },
  {
   "cell_type": "code",
   "execution_count": null,
   "id": "1c68b661",
   "metadata": {},
   "outputs": [
    {
     "name": "stdout",
     "output_type": "stream",
     "text": [
      "Hello World!\n"
     ]
    }
   ],
   "source": [
    "\n",
    "print(\"Hello World!\")\n"
   ]
  },
  {
   "cell_type": "markdown",
   "id": "3180d7e1",
   "metadata": {},
   "source": [
    "Great! Try creating your own print statement to print out your name.  \n",
    "\n",
    "Note: Anything with a hashtag (`#`) in front of it is called a comment. This is just text that you, the programmer, can see."
   ]
  },
  {
   "cell_type": "code",
   "execution_count": 12,
   "id": "52f8fe3c",
   "metadata": {},
   "outputs": [],
   "source": [
    "# your print statement here:\n",
    "\n",
    "\n"
   ]
  },
  {
   "cell_type": "markdown",
   "id": "8883909a",
   "metadata": {},
   "source": [
    "# 1.2: Variables & Types\n",
    "\n",
    "### 💡 What is a variable?\n",
    "\n",
    "> A variable is like a *labeled box* that stores a piece of information your program can use later.  \n",
    "\n",
    "You give it a name, and something to put inside (like a number, a word, or a sentence).  \n",
    "\n",
    "For example:"
   ]
  },
  {
   "cell_type": "code",
   "execution_count": null,
   "id": "d34ee4e0",
   "metadata": {},
   "outputs": [],
   "source": [
    "\n",
    "name = \"Sarah\"\n",
    "age = 23"
   ]
  },
  {
   "cell_type": "markdown",
   "id": "1e437e3c",
   "metadata": {},
   "source": [
    "Now Python knows that whenever I write `name`, I'm talking about `\"Sarah\"`."
   ]
  },
  {
   "cell_type": "markdown",
   "id": "06aa9d8f",
   "metadata": {},
   "source": [
    "\n",
    "### 💡 Why do we use variables?\n",
    "There are a lot of reasons! Like:\n",
    "\n",
    "- To save input from the user\n",
    "\n",
    "- To save the results of calculations\n",
    "\n",
    "- To make our code easier to understand and change later\n",
    "\n",
    "\n",
    "### 💡 What is a type?\n",
    "> Every value in Python has a type, which tells Python *what kind of thing it is*. \n",
    "\n",
    "One cool thing about Python is that it's very forgiving. You don't have to tell it what type a variable is. Python can usually figure it out on its own!  \n",
    "\n",
    "Other languages, however, will require you to define the type of variable that you're using (like Arduino's C++, which we will use in other activities).  \n",
    "\n",
    "But for now, we don't have to worry about that!  \n",
    "\n",
    "### 💡 Key Types for You to Know:\n",
    "\n",
    "| Type    | What It Is                | Example              |\n",
    "| ------- | ------------------------- | -------------------- |\n",
    "| `str`   | A string (text)           | `\"hello\"` or `\"123\"` |\n",
    "| `int`   | An integer (whole number) | `42`                 |\n",
    "| `float` | A number with a decimal   | `3.14`               |\n",
    "| `bool`  | True or False (later use) | `True`, `False`      |\n",
    "\n"
   ]
  },
  {
   "cell_type": "markdown",
   "id": "06c8f358",
   "metadata": {},
   "source": [
    "\n",
    "#### 🧠 Important tip! \n",
    "\n",
    "> Strings are in quotes (`\"like this!\"`), but numbers are not (`35` or `1.892`). You *can* put numbers inside of quotes (`\"35\"`) but this is *still a string*. You *cannot do math with strings*.\n"
   ]
  },
  {
   "cell_type": "code",
   "execution_count": 3,
   "id": "970e1669",
   "metadata": {},
   "outputs": [],
   "source": [
    "# defining a variable\n",
    "\n",
    "# explaining different types\n",
    "\n",
    "# printing the type of a variable"
   ]
  },
  {
   "cell_type": "code",
   "execution_count": 4,
   "id": "3ee61d14",
   "metadata": {},
   "outputs": [],
   "source": [
    "# string concatenation (using the + operator with strings)"
   ]
  },
  {
   "cell_type": "code",
   "execution_count": null,
   "id": "d8740372",
   "metadata": {},
   "outputs": [],
   "source": [
    "# type conversions (str -> int)"
   ]
  },
  {
   "cell_type": "markdown",
   "id": "93229578",
   "metadata": {},
   "source": [
    "# 1.3: Input Statements"
   ]
  },
  {
   "cell_type": "code",
   "execution_count": 5,
   "id": "af68a9d4",
   "metadata": {},
   "outputs": [],
   "source": [
    "# what it looks like when input() is called\n",
    "\n",
    "# storing & printing the input\n",
    "\n",
    "# using str concatenation with input"
   ]
  },
  {
   "cell_type": "markdown",
   "id": "c732745f",
   "metadata": {},
   "source": [
    "# 1.4: Your First Function"
   ]
  },
  {
   "cell_type": "code",
   "execution_count": 6,
   "id": "58e3a360",
   "metadata": {},
   "outputs": [],
   "source": [
    "# defiining a function (math?)\n",
    "\n",
    "# parameters\n",
    "\n",
    "# function calls (they won't do anything unless they're called!)"
   ]
  },
  {
   "cell_type": "markdown",
   "id": "44060f17",
   "metadata": {},
   "source": [
    "# 1.5: More Function Functionality"
   ]
  },
  {
   "cell_type": "code",
   "execution_count": 7,
   "id": "eeefd7f2",
   "metadata": {},
   "outputs": [],
   "source": [
    "# the \"return\" statement\n",
    "\n",
    "# default parameters\n",
    "\n",
    "# storing function output in a variable"
   ]
  },
  {
   "cell_type": "markdown",
   "id": "310c7d56",
   "metadata": {},
   "source": [
    "# 1.6: Challenge Tasks"
   ]
  },
  {
   "cell_type": "code",
   "execution_count": 8,
   "id": "92590c9d",
   "metadata": {},
   "outputs": [],
   "source": [
    "# 1. create a small mad libs word game with 3 input prompts minimum (no function required)\n",
    "\n",
    "# example output:\n",
    "\n",
    "# 2. create a function that takes in an age (in years) as input and prints the age in (approximate) months, hours, and seconds.\n",
    "\n",
    "# example output:"
   ]
  }
 ],
 "metadata": {
  "kernelspec": {
   "display_name": "Python 3",
   "language": "python",
   "name": "python3"
  },
  "language_info": {
   "codemirror_mode": {
    "name": "ipython",
    "version": 3
   },
   "file_extension": ".py",
   "mimetype": "text/x-python",
   "name": "python",
   "nbconvert_exporter": "python",
   "pygments_lexer": "ipython3",
   "version": "3.10.0"
  }
 },
 "nbformat": 4,
 "nbformat_minor": 5
}
