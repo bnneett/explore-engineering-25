{
 "cells": [
  {
   "cell_type": "markdown",
   "id": "03f1e2b2",
   "metadata": {},
   "source": [
    "# 1.1: Print Statements\n",
    "\n",
    "### 💡 What is a `print()` statement?\n",
    "\n",
    "> Think of a `print()` as the program's way of *talking to you*.  \n",
    "\n",
    "When you write `print()`, you're telling the program to display something on the screen.\n",
    "\n",
    "### 💡 Where do `print()` statements show up?\n",
    "\n",
    "> When you run a program, anything inside a `print()` will show up in a *designated output area*.  \n",
    "\n",
    "This is typically either right underneath the block of code or in a black terminal window.\n",
    "\n",
    "### 💡 What are they used for?\n",
    "\n",
    "There are a lot of reasons we might use these statements. Some include:\n",
    "\n",
    "- To tell the user a message (`print(\"Hello!\")`)\n",
    "\n",
    "- To show results to the user (`print(\"Your total is:\", total)`)\n",
    "\n",
    "- To help you see what's happening in your code (especially useful for debugging!)"
   ]
  },
  {
   "cell_type": "markdown",
   "id": "c7ad4fb0",
   "metadata": {},
   "source": [
    "### ⚙️ Example 1.1:\n",
    "\n",
    "Take a look at the block of code below. In order to run the block, hover over it and find the small \"play\" button in the top left corner.\n",
    "\n",
    "Try running the block of code. Can you see the output?"
   ]
  },
  {
   "cell_type": "code",
   "execution_count": null,
   "id": "1c68b661",
   "metadata": {},
   "outputs": [
    {
     "name": "stdout",
     "output_type": "stream",
     "text": [
      "Hello World!\n"
     ]
    }
   ],
   "source": [
    "\n",
    "print(\"Hello World!\")\n"
   ]
  },
  {
   "cell_type": "markdown",
   "id": "3180d7e1",
   "metadata": {},
   "source": [
    "Great! Try creating your own print statement to print out your name.  \n",
    "\n",
    "Note: Anything with a hashtag (`#`) in front of it is called a comment. This is just text that you, the programmer, can see."
   ]
  },
  {
   "cell_type": "code",
   "execution_count": 12,
   "id": "52f8fe3c",
   "metadata": {},
   "outputs": [],
   "source": [
    "# your print statement here:\n",
    "\n",
    "\n"
   ]
  },
  {
   "cell_type": "markdown",
   "id": "8883909a",
   "metadata": {},
   "source": [
    "# 1.2: Variables & Types\n",
    "\n",
    "### 💡 What is a variable?\n",
    "\n",
    "> A variable is like a *labeled box* that stores a piece of information your program can use later.  \n",
    "\n",
    "You give it a name, and something to put inside (like a number, a word, or a sentence).  \n",
    "\n",
    "For example:"
   ]
  },
  {
   "cell_type": "code",
   "execution_count": null,
   "id": "d34ee4e0",
   "metadata": {},
   "outputs": [],
   "source": [
    "\n",
    "name = \"Sarah\"\n",
    "age = 23"
   ]
  },
  {
   "cell_type": "markdown",
   "id": "1e437e3c",
   "metadata": {},
   "source": [
    "Now Python knows that whenever I write `name`, I'm talking about `\"Sarah\"`."
   ]
  },
  {
   "cell_type": "markdown",
   "id": "06aa9d8f",
   "metadata": {},
   "source": [
    "\n",
    "### 💡 Why do we use variables?\n",
    "There are a lot of reasons! Like:\n",
    "\n",
    "- To save input from the user\n",
    "\n",
    "- To save the results of calculations\n",
    "\n",
    "- To make our code easier to understand and change later\n",
    "\n",
    "\n",
    "### 💡 What is a type?\n",
    "> Every value in Python has a type, which tells Python *what kind of thing it is*. \n",
    "\n",
    "One cool thing about Python is that it's very forgiving. You don't have to tell it what type a variable is. Python can usually figure it out on its own!  \n",
    "\n",
    "Other languages, however, will require you to define the type of variable that you're using (like Arduino's C++, which we will use in other activities).  \n",
    "\n",
    "But for now, we don't have to worry about that!  \n",
    "\n",
    "### 💡 Key Types for You to Know:\n",
    "\n",
    "| Type    | What It Is                | Example              |\n",
    "| ------- | ------------------------- | -------------------- |\n",
    "| `str`   | A string (text)           | `\"hello\"` or `\"123\"` |\n",
    "| `int`   | An integer (whole number) | `42`                 |\n",
    "| `float` | A number with a decimal   | `3.14`               |\n",
    "| `bool`  | True or False (later use) | `True`, `False`      |\n",
    "\n"
   ]
  },
  {
   "cell_type": "markdown",
   "id": "06c8f358",
   "metadata": {},
   "source": [
    "\n",
    "#### 🧠 Important tip! \n",
    "\n",
    "> Strings are in quotes (`\"like this!\"`), but numbers are not (`35` or `1.892`). You *can* put numbers inside of quotes (`\"35\"`) but this is *still a string*. You *cannot do math with strings*. We'll come back to this later.\n"
   ]
  },
  {
   "cell_type": "markdown",
   "id": "7ea0a6ca",
   "metadata": {},
   "source": [
    "### ⚙️ Example 1.2:\n",
    "\n",
    "Let's define a couple variables together.\n",
    "\n",
    "In order to see what type a variable is, we can use the `type()` function. Let's try it!"
   ]
  },
  {
   "cell_type": "code",
   "execution_count": null,
   "id": "f59fada9",
   "metadata": {},
   "outputs": [
    {
     "name": "stdout",
     "output_type": "stream",
     "text": [
      "<class 'str'>\n",
      "<class 'int'>\n"
     ]
    }
   ],
   "source": [
    "\n",
    "month = \"July\"\n",
    "\n",
    "month_number = 7\n",
    "\n",
    "# remember: in order to actually see the results, we need to use a print() statement!\n",
    "\n",
    "print(type(month))\n",
    "\n",
    "print(type(month_number))\n"
   ]
  },
  {
   "cell_type": "markdown",
   "id": "6a9dc8da",
   "metadata": {},
   "source": [
    "Define some variables yourself! Let's try:\n",
    "- Your birth month (a string)\n",
    "- Your birth month as a number (an integer)\n"
   ]
  },
  {
   "cell_type": "code",
   "execution_count": null,
   "id": "970e1669",
   "metadata": {},
   "outputs": [],
   "source": [
    "# try some yourself! (make sure to run this cell by pressing the button!)\n",
    "\n"
   ]
  },
  {
   "cell_type": "code",
   "execution_count": null,
   "id": "3ee61d14",
   "metadata": {},
   "outputs": [],
   "source": [
    "# try printing out the type of each variable!\n",
    "\n"
   ]
  },
  {
   "cell_type": "markdown",
   "id": "93229578",
   "metadata": {},
   "source": [
    "# 1.3: Input Statements\n",
    "\n",
    "### 💡 What does the `input()` function do?\n",
    "> `input()` allows the program to take input directly from the user, to use in the program.\n",
    "\n",
    "Take a look at the cell below:"
   ]
  },
  {
   "cell_type": "code",
   "execution_count": null,
   "id": "daa0bbaa",
   "metadata": {},
   "outputs": [
    {
     "name": "stdout",
     "output_type": "stream",
     "text": [
      "Your favorite food is: food\n"
     ]
    }
   ],
   "source": [
    "\n",
    "favorite_food = input(\"What is your favorite food?\")\n",
    "\n",
    "print(\"Your favorite food is:\", favorite_food)\n"
   ]
  },
  {
   "cell_type": "markdown",
   "id": "eff9e856",
   "metadata": {},
   "source": [
    "What did you notice? We:\n",
    "- Paused the program to take input directly from the user\n",
    "- Stored the input in a variable, `favorite_food`\n",
    "- Repeated the input back to the user with a `print()` statement\n",
    "\n",
    "\n",
    "#### 🧠 Important Tip!\n",
    "> Whatever you put inside of the `input()` function will be displayed to the user as a prompt. It's most common to put a string here to let the user know what kind of answer you're looking for."
   ]
  },
  {
   "cell_type": "markdown",
   "id": "55a63b94",
   "metadata": {},
   "source": [
    "### 💡 But... we printed a variable and a string in the same line?\n",
    "> Yes, we did! Python's `print()` allows us to output as many things as we want (called arguments!).  \n",
    "\n",
    "Just separate your arguments (things) with a comma, and you can print as many as you want. You can print multiple variables, multiple strings, or a mix of both."
   ]
  },
  {
   "cell_type": "markdown",
   "id": "d73c22a3",
   "metadata": {},
   "source": [
    "### ⚙️ Example 1.3:\n",
    "\n",
    "Let's try it! In the cell below:\n",
    "- Ask the user a question via the `input()` function\n",
    "- Store that answer in a variable of your choosing\n",
    "- Print the user's input back to them as shown above\n",
    "\n",
    "> Bonus: What type of variable is the user's answer? How do you know?"
   ]
  },
  {
   "cell_type": "code",
   "execution_count": 5,
   "id": "af68a9d4",
   "metadata": {},
   "outputs": [],
   "source": [
    "# what it looks like when input() is called\n",
    "\n",
    "# storing & printing the input\n",
    "\n",
    "# using str concatenation with input"
   ]
  },
  {
   "cell_type": "code",
   "execution_count": null,
   "id": "d8740372",
   "metadata": {},
   "outputs": [],
   "source": [
    "# type conversions (str -> int)"
   ]
  },
  {
   "cell_type": "markdown",
   "id": "c732745f",
   "metadata": {},
   "source": [
    "# 1.4: Your First Function"
   ]
  },
  {
   "cell_type": "code",
   "execution_count": 6,
   "id": "58e3a360",
   "metadata": {},
   "outputs": [],
   "source": [
    "# defiining a function (math?)\n",
    "\n",
    "# parameters\n",
    "\n",
    "# function calls (they won't do anything unless they're called!)"
   ]
  },
  {
   "cell_type": "markdown",
   "id": "44060f17",
   "metadata": {},
   "source": [
    "# 1.5: More Function Functionality"
   ]
  },
  {
   "cell_type": "code",
   "execution_count": 7,
   "id": "eeefd7f2",
   "metadata": {},
   "outputs": [],
   "source": [
    "# the \"return\" statement\n",
    "\n",
    "# default parameters\n",
    "\n",
    "# storing function output in a variable"
   ]
  },
  {
   "cell_type": "markdown",
   "id": "310c7d56",
   "metadata": {},
   "source": [
    "# 1.6: Challenge Tasks"
   ]
  },
  {
   "cell_type": "code",
   "execution_count": 8,
   "id": "92590c9d",
   "metadata": {},
   "outputs": [],
   "source": [
    "# 1. create a small mad libs word game with 3 input prompts minimum (no function required)\n",
    "\n",
    "# example output:\n",
    "\n",
    "# 2. create a function that takes in an age (in years) as input and prints the age in (approximate) months, hours, and seconds.\n",
    "\n",
    "# example output:"
   ]
  }
 ],
 "metadata": {
  "kernelspec": {
   "display_name": "Python 3",
   "language": "python",
   "name": "python3"
  },
  "language_info": {
   "codemirror_mode": {
    "name": "ipython",
    "version": 3
   },
   "file_extension": ".py",
   "mimetype": "text/x-python",
   "name": "python",
   "nbconvert_exporter": "python",
   "pygments_lexer": "ipython3",
   "version": "3.10.11"
  }
 },
 "nbformat": 4,
 "nbformat_minor": 5
}
